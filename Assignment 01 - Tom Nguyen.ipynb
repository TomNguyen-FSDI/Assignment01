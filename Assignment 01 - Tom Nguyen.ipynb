{
 "cells": [
  {
   "cell_type": "markdown",
   "id": "ad220bb8",
   "metadata": {},
   "source": [
    "# Anagram - Problem 1\n",
    "### Given two strings (string_a and string_b) let's check whether or not they are anagrams of each other given the following criteria:\n",
    "> Two strings are only anagrams of each other if all conditions below are met:\n",
    "> * They must be exactly the same length.\n",
    "> * They must use exactly the same characters (no more, no less).\n",
    "Example: cars and scar, heart and earth, etc."
   ]
  },
  {
   "cell_type": "code",
   "execution_count": 95,
   "id": "898d4d48",
   "metadata": {},
   "outputs": [],
   "source": [
    "def lower_replace(string_value):\n",
    "    string_value = string_value.replace(\" \", \"\")  # remove space\n",
    "    string_value = string_value.replace(\"\\n\", \"\")  # remove newlines\n",
    "    string_value = string_value.lower()  # make all characters lower\n",
    "    return string_value\n",
    "\n",
    "\n"
   ]
  },
  {
   "cell_type": "code",
   "execution_count": 102,
   "id": "d1015679",
   "metadata": {},
   "outputs": [],
   "source": [
    "def is_anagram(string_a, string_b):\n",
    "    string_a = lower_replace(string_a)\n",
    "    string_b = lower_replace(string_b)\n",
    "    if len(string_a) != len(string_b):               # [1] They must be exactly the same length\n",
    "        return False\n",
    "    char_times_a = dict()\n",
    "    char_times_b = dict()\n",
    "    for i in range(len(string_a)):                   # [2] looping\n",
    "        \n",
    "        if string_a[i] not in char_times_a.keys():   # storing how many characters\n",
    "            char_times_a[string_a[i]] = 0            # add 'character' to dictionary with value of 0\n",
    "        else:                                        # increasing the value of by 1\n",
    "            char_times_a[string_a[i]] += 1           # {'c': 1,}\n",
    "        if string_b[i] not in char_times_b.keys():\n",
    "            char_times_b[string_b[i]] = 0\n",
    "        else:\n",
    "            char_times_b[string_b[i]] += 1\n",
    "    return char_times_a == char_times_b               # if the same then anagrams exist"
   ]
  },
  {
   "cell_type": "code",
   "execution_count": 103,
   "id": "2c969634",
   "metadata": {},
   "outputs": [
    {
     "data": {
      "text/plain": [
       "True"
      ]
     },
     "execution_count": 103,
     "metadata": {},
     "output_type": "execute_result"
    }
   ],
   "source": [
    "is_anagram(\"cars\", \"scar\")  # pass"
   ]
  },
  {
   "cell_type": "code",
   "execution_count": 104,
   "id": "d7e5c0bc",
   "metadata": {},
   "outputs": [
    {
     "data": {
      "text/plain": [
       "False"
      ]
     },
     "execution_count": 104,
     "metadata": {},
     "output_type": "execute_result"
    }
   ],
   "source": [
    "is_anagram(\"sccr\", \"scar\")  # fail"
   ]
  },
  {
   "cell_type": "code",
   "execution_count": 105,
   "id": "0664fc2d",
   "metadata": {},
   "outputs": [
    {
     "data": {
      "text/plain": [
       "True"
      ]
     },
     "execution_count": 105,
     "metadata": {},
     "output_type": "execute_result"
    }
   ],
   "source": [
    "is_anagram(\"I am lord Voldemort\", \"Tom Marvolo Riddle\")  # pass"
   ]
  },
  {
   "cell_type": "code",
   "execution_count": 106,
   "id": "c31cd3f1",
   "metadata": {},
   "outputs": [
    {
     "data": {
      "text/plain": [
       "True"
      ]
     },
     "execution_count": 106,
     "metadata": {},
     "output_type": "execute_result"
    }
   ],
   "source": [
    "is_anagram(\"School\\n master\", \"The classroom\")  # pass"
   ]
  },
  {
   "cell_type": "code",
   "execution_count": 107,
   "id": "3111ecb5",
   "metadata": {},
   "outputs": [
    {
     "data": {
      "text/plain": [
       "False"
      ]
     },
     "execution_count": 107,
     "metadata": {},
     "output_type": "execute_result"
    }
   ],
   "source": [
    "is_anagram(\"School mster\", \"The classrom\")  # fail"
   ]
  }
 ],
 "metadata": {
  "kernelspec": {
   "display_name": "Python 3",
   "language": "python",
   "name": "python3"
  },
  "language_info": {
   "codemirror_mode": {
    "name": "ipython",
    "version": 3
   },
   "file_extension": ".py",
   "mimetype": "text/x-python",
   "name": "python",
   "nbconvert_exporter": "python",
   "pygments_lexer": "ipython3",
   "version": "3.8.5"
  }
 },
 "nbformat": 4,
 "nbformat_minor": 5
}
